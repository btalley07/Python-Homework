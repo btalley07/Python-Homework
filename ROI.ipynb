{
 "cells": [
  {
   "cell_type": "code",
   "execution_count": 36,
   "metadata": {},
   "outputs": [
    {
     "name": "stdout",
     "output_type": "stream",
     "text": [
      "What was the cost of the property?:100000\n",
      "What is the cost of rent per month?:2000\n",
      "Expected laundry income per month? If none put 0:0\n",
      "Expected storage income per month? If none put 0:0\n",
      "Expected miscellaneous income per month? If none put 0:0\n",
      "Monthly taxes expenditure:200\n",
      "Monthly insurance expenditure:200\n",
      "Monthly utility expenditure: If tenants pay utilities put 0:0\n",
      "Monthly HOA expenditure: If none put 0:0\n",
      "Monthly lawn upkeep expenditure: If none put 0:0\n",
      "What amount are you putting away for eventual vacancy of the property? Per month200\n",
      "What are you putting away for repairs each month?200\n",
      "What are you putting into savings for capital expenditures each month?200\n",
      "What does your property manager cost per month? If none put 0:200\n",
      "Monthly mortgage expenditure:1200\n",
      "How much was your downpayment?5000\n",
      "How much were closing costs?3000\n",
      "How much did you spend on initial property rehab?0\n",
      "How much were miscellaneoud expenses:0\n",
      " Your total investment is: 8000 \n",
      " Your annual cash flow is: -4800 \n",
      " Your total return on investment is: -60.0\n"
     ]
    }
   ],
   "source": [
    "class Calc_ROI():\n",
    "    def __init__(self,total=0):\n",
    "        self.total = total\n",
    "        \n",
    "    def income(self):\n",
    "        totalprice = int(input(\"What was the cost of the property?:\"))\n",
    "        rentcost = int(input(\"What is the cost of rent per month?:\"))\n",
    "        laundrycost = int(input(\"Expected laundry income per month? If none put 0:\"))\n",
    "        storagecost = int(input(\"Expected storage income per month? If none put 0:\")) \n",
    "        misccost = int(input(\"Expected miscellaneous income per month? If none put 0:\"))\n",
    "        \n",
    "        income_total = (rentcost + laundrycost + storagecost + misccost)\n",
    "        \n",
    "        return income_total\n",
    "        \n",
    "    def expenses(self):\n",
    "        taxcost = int(input(\"Monthly taxes expenditure:\"))\n",
    "        insurance = int(input(\"Monthly insurance expenditure:\"))\n",
    "        utilitiescost = int(input(\"Monthly utility expenditure: If tenants pay utilities put 0:\"))\n",
    "        hoacost = int(input(\"Monthly HOA expenditure: If none put 0:\"))\n",
    "        yardcost = int(input(\"Monthly lawn upkeep expenditure: If none put 0:\"))\n",
    "        vacancysav = int(input(\"What amount are you putting away for eventual vacancy of the property? Per month\"))\n",
    "        repairsav = int(input(\"What are you putting away for repairs each month?\"))\n",
    "        capexsav = int(input(\"What are you putting into savings for capital expenditures each month?\"))\n",
    "        propmgmtcost = int(input(\"What does your property manager cost per month? If none put 0:\"))\n",
    "        mortgagecost = int(input(\"Monthly mortgage expenditure:\"))\n",
    "        expense_total = (taxcost + insurance + utilitiescost + hoacost + yardcost + vacancysav + repairsav + capexsav + propmgmtcost + mortgagecost)\n",
    "        \n",
    "        return expense_total\n",
    "   \n",
    "    def cashFlow(self):\n",
    "        cashflowing = self.income() - self.expenses()\n",
    "        self.cashflowing = cashflowing\n",
    "        return cashflowing\n",
    "        \n",
    "    def cashoncash(self):\n",
    "        downpaymentcost = int(input(\"How much was your downpayment?\"))\n",
    "        closingcosts = int(input(\"How much were closing costs?\"))\n",
    "        rehabcosts = int(input(\"How much did you spend on initial property rehab?\"))\n",
    "        miscroi = int(input(\"How much were miscellaneous expenses:\"))\n",
    "        total_investment = (downpaymentcost + closingcosts + rehabcosts + miscroi)\n",
    "        annCashFlow = self.cashflowing * 12\n",
    "        roi = (annCashFlow / total_investment) * 100\n",
    "        print(f\" Your total investment is: {total_investment} \\n Your annual cash flow is: {annCashFlow} \\n Your total return on investment is: {roi}\")\n",
    "\n",
    "def main():\n",
    "    ROI = Calc_ROI()\n",
    "    ROI.cashFlow()\n",
    "    ROI.cashoncash()\n",
    "\n",
    "\n",
    "main()\n"
   ]
  },
  {
   "cell_type": "markdown",
   "metadata": {},
   "source": [
    "# Calc_ROI(100)"
   ]
  }
 ],
 "metadata": {
  "kernelspec": {
   "display_name": "Python 3",
   "language": "python",
   "name": "python3"
  },
  "language_info": {
   "codemirror_mode": {
    "name": "ipython",
    "version": 3
   },
   "file_extension": ".py",
   "mimetype": "text/x-python",
   "name": "python",
   "nbconvert_exporter": "python",
   "pygments_lexer": "ipython3",
   "version": "3.8.5"
  }
 },
 "nbformat": 4,
 "nbformat_minor": 4
}
