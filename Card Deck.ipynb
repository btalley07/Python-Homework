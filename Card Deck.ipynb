{
 "cells": [
  {
   "cell_type": "code",
   "execution_count": 6,
   "metadata": {},
   "outputs": [],
   "source": [
    "class Card:\n",
    "    def __init__ (self, suit, value):\n",
    "        self.suit = suit\n",
    "        self.value = value\n",
    "        \n",
    "class Deck:\n",
    "    def __init__(self):\n",
    "        suits =['hearts', 'clubs', 'diamonds','spades']\n",
    "        values =['A','1','2','3','4','5','6','7','8','9','10','J','Q','K']\n",
    "        self.cards = [Card(suit,value) for suit in suits for value in values]\n",
    "        \n",
    "    def shuffle(self):\n",
    "        shuffle(self.cards)\n",
    "        return self\n",
    "    \n",
    "    def deal(self):\n",
    "        if len(self.cards) == 0:\n",
    "            return \"No more cards\"\n",
    "        else:\n",
    "            return self.cards\n",
    "    "
   ]
  }
 ],
 "metadata": {
  "kernelspec": {
   "display_name": "Python 3",
   "language": "python",
   "name": "python3"
  },
  "language_info": {
   "codemirror_mode": {
    "name": "ipython",
    "version": 3
   },
   "file_extension": ".py",
   "mimetype": "text/x-python",
   "name": "python",
   "nbconvert_exporter": "python",
   "pygments_lexer": "ipython3",
   "version": "3.8.5"
  }
 },
 "nbformat": 4,
 "nbformat_minor": 4
}
